{
 "cells": [
  {
   "attachments": {},
   "cell_type": "markdown",
   "metadata": {},
   "source": [
    "# Plan for today's class \n",
    "# 1. Embeddings for text data\n",
    "<!-- # 2. Embeddings for network data -->\n",
    "# 3. Embeddings for chat logs\n",
    "<!-- # 4. Embeddings for images\n",
    "# 5. Embeddings for audio\n",
    "# 6. Embeddings for video\n",
    "# 7. Embeddings for time series\n",
    "# 8. Embeddings for tabular data\n",
    "# 9. Embeddings for graphs\n",
    "# 10. Embeddings for 3D data -->\n",
    "\n",
    "# Plan for #1: Embeddings for text data\n",
    "1. Get data from Zulip into CSV format\n",
    "2. Create embeddings using code from last class.\n",
    "3. Use the code from last class to create a visualization of the embeddings."
   ]
  },
  {
   "attachments": {},
   "cell_type": "markdown",
   "metadata": {},
   "source": [
    "## 1. Get data from Zulip into CSV format\n",
    "\n",
    "https://zulip.com/help/export-your-organization\n",
    "\n",
    "### Ethics of using Zulip data\n",
    "* Students were informed that `By submitting this, you agree that your words will be allowed to be analyzed by current and future students of data thinking.` when they signed up for datathinking.zulipchat.com at https://courses.cs.ut.ee/2023/chatGPT/spring\n",
    "* I'm not sure what 'public' versus not public means?\n",
    "* VERY IMPORTANT to get informed consent from everyone if needed!\n",
    "* The core issue around `informed consent` is that you need to tell people what you are going to do with their data, and they need to agree to it.\n",
    "* Digital literacy: when people use a third-party service (external to the two parties such as a teacher and learners), people may be typically aware that their data may be used. I don't think this is obvious! \n",
    "* Opting out: if someone doesn't want their data to be used, they should be able to opt out. In this course -- they can opt out by not participating in the chat.\n",
    "* Digital literacy: why might someone want to opt out?\n",
    "  * Unknown consequences of data and powerful models trained on the entire internet.\n",
    "  * Their data may be monetized by hosts of GPT-4, and other large language models that make money off of subscriptions. \n",
    "  * For example, would the professors involved here agree to their data/transcripts from YouTube being monetized by YouTube and Bing? https://twitter.com/thejaan/status/1635763034642690049?cxt=HHwWgsC9iYf0srMtAAAA\n",
    "* Gulnara: if I use Google products, it's unavoidable that my data is used to make money. Social apps involve giving consent for data to be used. Privacy policies exist, but not many people read them and we give consent automatically. \n",
    "* Public speech: if you are in a public space, you are giving consent for your speech to be recorded and used.\n",
    "* people may want to opt out in relation to how directly their data is linked to money that they do not receive. \n",
    "* \"at this point, you kind of assume this is the price of free software\"\n",
    "* Stated intent, and behaviors associated with that intent matter. \n",
    "* For example, Jaan hopes that this data is directly used to benefit the open source course, tools for teachers around the world, and improves the learner experience for the 150+ people on the Data Thinking learner list. \n",
    "  * Actions related to this intent: \n",
    "    * 501(c)(3) non-profit organization, One Fact Foundation, is created to support the Data Thinking course and other open source projects.\n",
    "    * Expert legal counsel, https://www.linkedin.com/in/stephen-winslow-5384167a/ and https://www.brombergerlaw.com/carly-leinheiser is consulted to ensure that the Data Thinking course is in compliance with all laws and regulations. \n",
    "    * Larger version of this course taught to faculty from 50+ historiaclly black colleges and universities in the United States.\n",
    "    * https://2023.open-data.nyc/event/data-thinking-in-the-era-of-chatgpt/ is a public event that is open to the public.\n",
    "    * Teaching larger version at University of Pennsylvania. \n",
    "    * NIH may hope to scale this type of approach to 10,000+ learners. "
   ]
  },
  {
   "cell_type": "code",
   "execution_count": null,
   "metadata": {},
   "outputs": [],
   "source": [
    "import jax \n",
    "import jax.numpy as jnp\n",
    "\n",
    "# Define embedding dimension\n",
    "embedding_dim = 10\n",
    "\n",
    "# Define vocabulary size\n",
    "vocab_size = 16\n",
    "\n",
    "# Define vocabulary\n",
    "vocabulary = [\"embedding\", \"dimension\", \"vocab\", \"size\", \"random\", \"matrix\", \n",
    "              \"jax\", \"numpy\", \"natural\", \"language\", \"processing\", \"represent\", \n",
    "              \"words\", \"phrases\", \"numerical\", \"vectors\"]\n",
    "\n",
    "# Create random embedding matrix\n",
    "def random_embedding_matrix(vocab_size, embedding_dim):\n",
    "    return jax.random.normal(jax.random.PRNGKey(0), (vocab_size, embedding_dim))\n",
    "\n",
    "embedding_matrix = random_embedding_matrix(vocab_size, embedding_dim)\n",
    "\n",
    "# Define the axis upon which embeddings are indexed on\n",
    "embedding_axis_dim = 0 \n",
    "\n",
    "# Get the embedding for \"embedding\"\n",
    "embedding = embedding_matrix[vocabulary.index(\"embedding\")]\n",
    "print(\"Embedding for 'embedding':\", embedding)"
   ]
  },
  {
   "cell_type": "code",
   "execution_count": null,
   "metadata": {},
   "outputs": [],
   "source": []
  }
 ],
 "metadata": {
  "language_info": {
   "name": "python"
  },
  "orig_nbformat": 4
 },
 "nbformat": 4,
 "nbformat_minor": 2
}
